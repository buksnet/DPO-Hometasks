{
  "nbformat": 4,
  "nbformat_minor": 0,
  "metadata": {
    "colab": {
      "provenance": [],
      "collapsed_sections": [
        "HAVFiCLPo28O"
      ],
      "toc_visible": true,
      "include_colab_link": true
    },
    "kernelspec": {
      "name": "python3",
      "display_name": "Python 3"
    },
    "language_info": {
      "name": "python"
    }
  },
  "cells": [
    {
      "cell_type": "markdown",
      "metadata": {
        "id": "view-in-github",
        "colab_type": "text"
      },
      "source": [
        "<a href=\"https://colab.research.google.com/github/buksnet/DPO-Hometasks/blob/main/%D0%9F%D1%80%D0%B0%D0%BA%D1%82%D0%B8%D0%BA%D0%B0_%E2%84%962_%D0%91%D1%83%D0%BA%D0%BE%D0%B2%D1%81%D0%BA%D0%B8%D0%B9_%D0%A0%D0%98%D0%A1_23_3%D0%91.ipynb\" target=\"_parent\"><img src=\"https://colab.research.google.com/assets/colab-badge.svg\" alt=\"Open In Colab\"/></a>"
      ]
    },
    {
      "cell_type": "markdown",
      "source": [
        "# Практика №2\n",
        "\n",
        "1. Сгенерировать, используя модуль псевдослучайных чисел `random`, или ввести с клавиатуры список целых чисел. Вывести в консоль, затем перевернуть его и снова вывести в консоль.\n",
        "\n",
        "2. Сгенерировать, используя модуль псевдослучайных чисел `random`, или ввести с клавиатуры два списка целых чисел. Вывести их в консоль. Создать новый пустой список. Добавить в него все четные (по индексу) элементы первого списка и все нечетные (по индексу) элементы второго списка. Вывести третий список в консоль.\n",
        "\n",
        "3. Сгенерировать, используя модуль псевдослучайных чисел `random`, или ввести с клавиатуры список произвольных элементов (целые числа, числа с плавающей точкой, строки). Вывести в консоль. Убрать из него все дубликаты через приведение типов. Вывести в консоль.\n",
        "\n",
        "4. Сгенерировать, используя модуль псевдослучайных чисел `random`, или ввести с клавиатуры словарь, где ключом является строка, значением — целое число или число с плавающей точкой. Вывести в консоль. Для всех уникальных значений создать кортеж, где первым элементом будет значение, вторым — список связанных с ним ключей. Собрать эти кортежи в список, вывести его в консоль.\n",
        "\n",
        "5. Сгенерировать, используя модуль псевдослучайных чисел `random`, или ввести с клавиатуры два словаря, где ключом является строка, значением — целое число или число с плавающей точкой. Вывести в консоль. Найти пересечения множеств значений словарей. Создать новый словарь, содержащий только те пары ключ-значение, значения из которых входит в пересечение. Вывести в консоль.\n",
        "\n",
        "[Ссылка на документацию функции `random`](https://docs.python.org/3/library/random.html)\n",
        "\n",
        "[Built-in Types](https://docs.python.org/3/library/stdtypes.html?highlight=tuple#tuple)"
      ],
      "metadata": {
        "id": "64JPlHixec69"
      }
    },
    {
      "cell_type": "markdown",
      "source": [
        "## Задание 1"
      ],
      "metadata": {
        "id": "HAVFiCLPo28O"
      }
    },
    {
      "cell_type": "code",
      "source": [
        "import random\n",
        "\n",
        "def generate_list(k):\n",
        "  return [random.randrange(0, 10) for _ in range(k)]\n",
        "u = generate_list(8)\n",
        "print(u)\n",
        "\n",
        "print(list(reversed(u)))"
      ],
      "metadata": {
        "id": "YyusyI57F_6_",
        "colab": {
          "base_uri": "https://localhost:8080/"
        },
        "outputId": "4b9ddcd2-d059-4023-8bf4-d65847c5b6a7"
      },
      "execution_count": null,
      "outputs": [
        {
          "output_type": "stream",
          "name": "stdout",
          "text": [
            "[9, 2, 2, 2, 0, 7, 6, 1]\n",
            "[1, 6, 7, 0, 2, 2, 2, 9]\n"
          ]
        }
      ]
    },
    {
      "cell_type": "markdown",
      "source": [
        "\n",
        "\n",
        "```\n",
        "# Выбран кодовый формат\n",
        "```\n",
        "\n",
        "## Задание 2"
      ],
      "metadata": {
        "id": "a1gbYjASfIqJ"
      }
    },
    {
      "cell_type": "code",
      "source": [
        "import random\n",
        "\n",
        "\n",
        "def generate_list(k):\n",
        "  return [random.randrange(0, 10) for _ in range(k)]\n",
        "\n",
        "\n",
        "l1, l2 = generate_list(8), generate_list(8)\n",
        "l3 = list()\n",
        "\n",
        "l3 += l1[::2] + l2[0::2]\n",
        "\n",
        "print(l3)\n"
      ],
      "metadata": {
        "id": "Q0qL-Z2CGAXx",
        "outputId": "decb34df-463a-4817-e936-f339acac942a",
        "colab": {
          "base_uri": "https://localhost:8080/"
        }
      },
      "execution_count": null,
      "outputs": [
        {
          "output_type": "stream",
          "name": "stdout",
          "text": [
            "[3, 6, 2, 8, 9, 8, 7, 9]\n"
          ]
        }
      ]
    },
    {
      "cell_type": "markdown",
      "source": [
        "## Задание 3"
      ],
      "metadata": {
        "id": "ZITkT8YUfM8t"
      }
    },
    {
      "cell_type": "code",
      "source": [
        "import random\n",
        "\n",
        "\n",
        "def generate_list(k):\n",
        "    return [random.randrange(0, 10) for _ in range(k)]\n",
        "\n",
        "\n",
        "l1 = list(map(str, generate_list(8)))\n",
        "\n",
        "for i, v1 in enumerate(l1):\n",
        "    for j, v2 in enumerate(l1[i+1:]):\n",
        "        if v1 == v2:\n",
        "            del l1[j]\n",
        "print(l1)\n"
      ],
      "metadata": {
        "id": "FIKNuLjQGAsW",
        "outputId": "9c7b8876-4201-495f-944e-1785f3862d4c",
        "colab": {
          "base_uri": "https://localhost:8080/"
        }
      },
      "execution_count": null,
      "outputs": [
        {
          "output_type": "stream",
          "name": "stdout",
          "text": [
            "['3', '9', '7', '9', '5', '2']\n"
          ]
        }
      ]
    },
    {
      "cell_type": "markdown",
      "source": [
        "## Задание 4"
      ],
      "metadata": {
        "id": "sqvNf2a6fTdY"
      }
    },
    {
      "cell_type": "code",
      "source": [
        "import random\n",
        "\n",
        "\n",
        "def generate_dict(k: int):\n",
        "    alphabet = 'abcdefghijklmnopqrstuvwxyz'\n",
        "    result = dict()\n",
        "\n",
        "    for _ in range(k):\n",
        "        key = random.sample(random.choices(alphabet, k=4), 4)\n",
        "        value = random.randint(0, 10)\n",
        "        result.update({''.join(key): value})\n",
        "    return result\n",
        "\n",
        "\n",
        "ex = generate_dict(8)\n",
        "result = list()\n",
        "\n",
        "for key, value in ex.items():\n",
        "    keys = list()\n",
        "    for dkey, dvalue in ex.items():\n",
        "        if value == dvalue:\n",
        "            keys.append(dkey)\n",
        "            if value not in [val[0] for val in result]:\n",
        "                result.append((value, keys))\n",
        "\n",
        "print(result)\n"
      ],
      "metadata": {
        "id": "4qaYZ2dMGBEr",
        "outputId": "1fa87f30-e0ff-4493-e57c-e6611d020341",
        "colab": {
          "base_uri": "https://localhost:8080/"
        }
      },
      "execution_count": null,
      "outputs": [
        {
          "output_type": "stream",
          "name": "stdout",
          "text": [
            "[(7, ['mnfi', 'rgnz']), (6, ['pywb', 'dwbj']), (2, ['vdjj']), (1, ['plvn']), (4, ['fwcp']), (9, ['rdvf'])]\n"
          ]
        }
      ]
    },
    {
      "cell_type": "markdown",
      "source": [
        "## Задание 5"
      ],
      "metadata": {
        "id": "3V5mJOBQfYHe"
      }
    },
    {
      "cell_type": "code",
      "source": [
        "import random\n",
        "\n",
        "\n",
        "def generate_dict(k: int):\n",
        "    alphabet = 'abcdefghijklmnopqrstuvwxyz'\n",
        "    result = dict()\n",
        "\n",
        "    for _ in range(k):\n",
        "        key = random.sample(random.choices(alphabet, k=4), 4)\n",
        "        value = random.randint(0, 10)\n",
        "        result.update({''.join(key): value})\n",
        "    return result\n",
        "\n",
        "\n",
        "d1, d2 = generate_dict(8), generate_dict(8)\n",
        "intersect_set = set(map(str, d1.values())) & set(map(str, d2.values()))\n",
        "\n",
        "modified_dict = dict()\n",
        "\n",
        "for key, value in d1.items():\n",
        "    if str(value) in intersect_set:\n",
        "        modified_dict.update({key: value})\n",
        "\n",
        "for key, value in d2.items():\n",
        "    if str(value) in intersect_set:\n",
        "        modified_dict.update({key: value})\n",
        "\n",
        "print(modified_dict)"
      ],
      "metadata": {
        "id": "7RJzU4DiGBXQ",
        "outputId": "06fc4e51-1ff2-48ca-b677-56ef5173719d",
        "colab": {
          "base_uri": "https://localhost:8080/"
        }
      },
      "execution_count": null,
      "outputs": [
        {
          "output_type": "stream",
          "name": "stdout",
          "text": [
            "{'bgsh': 0, 'hvji': 6, 'yota': 6, 'sjpx': 10, 'iynb': 3, 'txkw': 3, 'hbfr': 10, 'xvsv': 0, 'efoy': 6}\n"
          ]
        }
      ]
    }
  ]
}